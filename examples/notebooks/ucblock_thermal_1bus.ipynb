{
 "cells": [
  {
   "cell_type": "markdown",
   "id": "0",
   "metadata": {},
   "source": [
    "# 1-bus UCBlock and ThermalUnitBlock\n",
    "\n",
    "In the following, we provide a quick example on how to add a simple optimization model with **SMS++**.\n",
    "The problem below optimizes the dispatch of a single thermal generator of 100 kW to meet a constant load\n",
    "over 24 hours in one bus.\n"
   ]
  },
  {
   "cell_type": "markdown",
   "id": "1",
   "metadata": {},
   "source": [
    "A sample **SMS++** network can be created with the following code. After the Python imports, the code creates\n",
    "a new SMS++ network `sn` with the **block file** format. The block file format is a text file that contains\n",
    "only the model data in a structured way, with no solver information. The solver information is provided\n",
    "in a separate configuration file."
   ]
  },
  {
   "cell_type": "code",
   "execution_count": null,
   "id": "2",
   "metadata": {},
   "outputs": [],
   "source": [
    "from pysmspp import SMSConfig, SMSNetwork, Variable, Block, SMSFileType\n",
    "import numpy as np\n",
    "\n",
    "# Create an empty SMSNetwork with block file type\n",
    "sn = SMSNetwork(file_type=SMSFileType.eBlockFile)\n",
    "\n",
    "# For demonstration, we'll print out the network to confirm it is created.\n",
    "sn"
   ]
  },
  {
   "cell_type": "markdown",
   "id": "3",
   "metadata": {},
   "source": [
    "After an empty network is created, we can populate it by blocks. In particular, we need to add a first\n",
    "inner block that describes the type of model to be optimized. Here, we add a `UCBlock` (Unit Commitment\n",
    "Block) suitable for unit commitment problems (see [UCBlock SMS documentation](https://gitlab.com/smspp/ucblock)\n",
    "for more details).We specify **24 time steps** (one day) and a **constant demand** of **50 kW** for each time\n",
    "step.\n",
    "\n",
    "The block is added to the network with:"
   ]
  },
  {
   "cell_type": "code",
   "execution_count": null,
   "id": "4",
   "metadata": {},
   "outputs": [],
   "source": [
    "ucb = sn.add(\n",
    "    \"UCBlock\",  # block type\n",
    "    \"Block_0\",  # block name\n",
    "    id=\"0\",  # block id\n",
    "    TimeHorizon=24,  # number of time steps\n",
    "    NumberUnits=1,  # number of units\n",
    "    NumberElectricalGenerators=1,  # number of electrical generators\n",
    "    NumberNodes=1,  # number of nodes\n",
    "    ActivePowerDemand=Variable(  # active power demand\n",
    "        \"ActivePowerDemand\",\n",
    "        \"float\",\n",
    "        (\"NumberNodes\", \"TimeHorizon\"),\n",
    "        np.full((1, 24), 50.0),  # constant demand of 50 kW\n",
    "    ),\n",
    ")\n",
    "\n",
    "print(\"Added UCBlock with constant demand.\")\n",
    "\n",
    "ucb  # print the block to confirm it is created"
   ]
  },
  {
   "cell_type": "markdown",
   "id": "5",
   "metadata": {},
   "source": [
    "In the unit commitment block above, no generator is yet added. To add a generator, we first create a\n",
    "`ThermalUnitBlock`. Then we attach it to `sn.blocks[\"Block_0\"]` using the `add` method. The snippet\n",
    "below sets up a thermal generator with 100 kW maximum output."
   ]
  },
  {
   "cell_type": "code",
   "execution_count": null,
   "id": "6",
   "metadata": {},
   "outputs": [],
   "source": [
    "thermal_unit_block = Block().from_kwargs(\n",
    "    block_type=\"ThermalUnitBlock\",\n",
    "    MinPower=Variable(\"MinPower\", \"float\", (), 0.0),\n",
    "    MaxPower=Variable(\"MaxPower\", \"float\", (), 100.0),\n",
    "    LinearTerm=Variable(\"LinearTerm\", \"float\", (), 0.3),\n",
    "    InitUpDownTime=Variable(\"InitUpDownTime\", \"int\", (), 1),\n",
    ")\n",
    "\n",
    "# Add it to the existing UCBlock (Block_0)\n",
    "sn.blocks[\"Block_0\"].add(\"ThermalUnitBlock\", \"UnitBlock_0\", block=thermal_unit_block)\n",
    "print(\"ThermalUnitBlock added.\")"
   ]
  },
  {
   "cell_type": "markdown",
   "id": "7",
   "metadata": {},
   "source": [
    "Finally, we can optimize the network using a solver configuration file and specifying a temporary SMS++\n",
    "file path. Here’s an example invocation:"
   ]
  },
  {
   "cell_type": "code",
   "execution_count": null,
   "id": "8",
   "metadata": {},
   "outputs": [],
   "source": [
    "configfile = SMSConfig(\n",
    "    template=\"uc_solverconfig\"\n",
    ")  # path to the template solver config file \"uc_solverconfig\"\n",
    "temporary_smspp_file = \"./smspp_temp_file.nc\"  # path to temporary SMS++ file\n",
    "output_file = \"./smspp_output.txt\"  # path to the output file (optional)\n",
    "\n",
    "result = sn.optimize(\n",
    "    configfile,\n",
    "    temporary_smspp_file,\n",
    "    output_file,\n",
    ")\n",
    "\n",
    "print(\"Optimization finished.\")"
   ]
  },
  {
   "cell_type": "markdown",
   "id": "9",
   "metadata": {},
   "source": [
    "Basic results are stored in the `result` object. For instance, you can check the solver status and\n",
    "the final objective value with:"
   ]
  },
  {
   "cell_type": "code",
   "execution_count": null,
   "id": "10",
   "metadata": {},
   "outputs": [],
   "source": [
    "print(\"Status:\", result.status)\n",
    "print(\"Objective value:\", result.objective_value)"
   ]
  }
 ],
 "metadata": {
  "kernelspec": {
   "display_name": "",
   "language": "python",
   "name": ""
  },
  "language_info": {
   "codemirror_mode": {
    "name": "ipython",
    "version": 3
   },
   "file_extension": ".py",
   "mimetype": "text/x-python",
   "name": "python",
   "nbconvert_exporter": "python",
   "pygments_lexer": "ipython3",
   "version": "3.10.16"
  },
  "name": "quick_start_example"
 },
 "nbformat": 4,
 "nbformat_minor": 5
}
