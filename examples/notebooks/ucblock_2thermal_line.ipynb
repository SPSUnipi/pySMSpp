{
 "cells": [
  {
   "cell_type": "markdown",
   "metadata": {},
   "source": [
    "# 2-buses UCBlock, NetworkBlock and two ThermalUnitBlocks\n",
    "In the following, we provide an example on how to build a simple optimization model with SMS++. This is a dispatch problem, considering two buses, connected by a line, with a load and a thermal generator each. \n",
    "\n",
    "First, an empty SMSNetwork with block file type is generated."
   ]
  },
  {
   "cell_type": "code",
   "execution_count": null,
   "metadata": {},
   "outputs": [],
   "source": [
    "from pysmspp import SMSNetwork, SMSFileType\n",
    "\n",
    "sn = SMSNetwork(file_type=SMSFileType.eBlockFile)  # Empty Block\n",
    "\n",
    "sn"
   ]
  },
  {
   "cell_type": "markdown",
   "metadata": {},
   "source": [
    "The network does not contain any block inside, so it has to be populated. The first block is a UCBlock, which includes several information.\n",
    "1- Dimensions of the problem"
   ]
  },
  {
   "cell_type": "code",
   "execution_count": null,
   "metadata": {},
   "outputs": [],
   "source": [
    "kwargs = {\n",
    "    \"TimeHorizon\": 24,  # number of time steps\n",
    "    \"NumberUnits\": 2,  # number of units\n",
    "    \"NumberElectricalGenerators\": 2,  # number of electrical generators\n",
    "    \"NumberNodes\": 2,  # number of nodes\n",
    "    \"NumberLines\": 1,  # number of lines\n",
    "}"
   ]
  },
  {
   "cell_type": "markdown",
   "metadata": {},
   "source": [
    "2- Demand for each node. This has to be defined as a Variable object"
   ]
  },
  {
   "cell_type": "code",
   "execution_count": null,
   "metadata": {},
   "outputs": [],
   "source": [
    "from pysmspp import Variable\n",
    "import numpy as np\n",
    "\n",
    "demand_array = np.full((2, 24), 50.0)\n",
    "demand = {\n",
    "    \"ActivePowerDemand\": Variable(  # active power demand\n",
    "        \"ActivePowerDemand\",\n",
    "        \"float\",\n",
    "        (\"NumberNodes\", \"TimeHorizon\"),\n",
    "        demand_array,\n",
    "    )\n",
    "}  # constant demand of 50kW\n",
    "\n",
    "kwargs = {**kwargs, **demand}"
   ]
  },
  {
   "cell_type": "markdown",
   "metadata": {},
   "source": [
    "3- Parameters for the line\n",
    "In fact, a line can be described with a DCNetworkBlock or directly including its relevant parameters in UCBlock"
   ]
  },
  {
   "cell_type": "code",
   "execution_count": null,
   "metadata": {},
   "outputs": [],
   "source": [
    "line_variables = {\n",
    "    \"StartLine\": Variable(\"StartLine\", \"int\", (\"NumberLines\",), [0]),\n",
    "    \"EndLine\": Variable(\"EndLine\", \"int\", (\"NumberLines\",), [1]),\n",
    "    \"MinPowerFlow\": Variable(\"MinPowerFlow\", \"float\", (\"NumberLines\",), [-50.0]),\n",
    "    \"MaxPowerFlow\": Variable(\"MaxPowerFlow\", \"float\", (\"NumberLines\",), [50.0]),\n",
    "    \"LineSusceptance\": Variable(\"LineSusceptance\", \"float\", (\"NumberLines\",), [0.0]),\n",
    "}\n",
    "\n",
    "kwargs = {**kwargs, **line_variables}"
   ]
  },
  {
   "cell_type": "markdown",
   "metadata": {},
   "source": [
    "4- Variable to specify in which bus (node) the generator is attached"
   ]
  },
  {
   "cell_type": "code",
   "execution_count": null,
   "metadata": {},
   "outputs": [],
   "source": [
    "generator_node = {\n",
    "    \"GeneratorNode\": Variable(\n",
    "        \"GeneratorNode\", int, (\"NumberElectricalGenerators\",), [0, 1]\n",
    "    ),\n",
    "}\n",
    "\n",
    "kwargs = {**kwargs, **generator_node}"
   ]
  },
  {
   "cell_type": "markdown",
   "metadata": {},
   "source": [
    "Add everything with the SMSnetwork.add function"
   ]
  },
  {
   "cell_type": "code",
   "execution_count": null,
   "metadata": {},
   "outputs": [],
   "source": [
    "sn.add(\n",
    "    \"UCBlock\",  # block type\n",
    "    \"Block_0\",  # block name\n",
    "    id=\"0\",  # block id\n",
    "    **kwargs,\n",
    ")\n",
    "\n",
    "sn"
   ]
  },
  {
   "cell_type": "markdown",
   "metadata": {},
   "source": [
    "Now the SMSNetworj object has an UCBlock called Block_0. Let's see how it is organized"
   ]
  },
  {
   "cell_type": "code",
   "execution_count": null,
   "metadata": {},
   "outputs": [],
   "source": [
    "sn.blocks[\"Block_0\"]"
   ]
  },
  {
   "cell_type": "markdown",
   "metadata": {},
   "source": [
    "Now, the two thermal units have to be added to the UCBlock as ThermalUnitBlocks.\n",
    "First, the Block().from_kwargs is used to organize the object as a block"
   ]
  },
  {
   "cell_type": "code",
   "execution_count": null,
   "metadata": {},
   "outputs": [],
   "source": [
    "from pysmspp import Block, SMSConfig\n",
    "\n",
    "thermal_unit_block = Block().from_kwargs(\n",
    "    block_type=\"ThermalUnitBlock\",\n",
    "    MinPower=Variable(\"MinPower\", \"float\", (), 0.0),\n",
    "    MaxPower=Variable(\"MaxPower\", \"float\", (), 70.0),\n",
    "    LinearTerm=Variable(\"LinearTerm\", \"float\", (), 0.3),\n",
    "    InitUpDownTime=Variable(\"InitUpDownTime\", \"int\", (), 1),\n",
    ")\n",
    "\n",
    "thermal_unit_block"
   ]
  },
  {
   "cell_type": "markdown",
   "metadata": {},
   "source": [
    "Then, the unit block is added to the UCBlock"
   ]
  },
  {
   "cell_type": "code",
   "execution_count": null,
   "metadata": {},
   "outputs": [],
   "source": [
    "# Add it to the existing UCBlock (Block_0)\n",
    "sn.blocks[\"Block_0\"].add_block(\"UnitBlock_0\", block=thermal_unit_block)\n",
    "\n",
    "sn.blocks[\"Block_0\"]"
   ]
  },
  {
   "cell_type": "markdown",
   "metadata": {},
   "source": [
    "Similarly for the second ThermalUnitBlock. The max power is chosen to force the system to use the line"
   ]
  },
  {
   "cell_type": "code",
   "execution_count": null,
   "metadata": {},
   "outputs": [],
   "source": [
    "thermal_unit_block = Block().from_kwargs(\n",
    "    block_type=\"ThermalUnitBlock\",\n",
    "    MinPower=Variable(\"MinPower\", \"float\", (), 0.0),\n",
    "    MaxPower=Variable(\"MaxPower\", \"float\", (), 90.0),\n",
    "    LinearTerm=Variable(\"LinearTerm\", \"float\", (), 0.8),\n",
    "    InitUpDownTime=Variable(\"InitUpDownTime\", \"int\", (), 1),\n",
    ")\n",
    "\n",
    "# Add it to the existing UCBlock (Block_0)\n",
    "sn.blocks[\"Block_0\"].add_block(\"UnitBlock_1\", block=thermal_unit_block)\n",
    "\n",
    "sn.blocks[\"Block_0\"]"
   ]
  },
  {
   "cell_type": "markdown",
   "metadata": {},
   "source": [
    "The problem can be now optimized"
   ]
  },
  {
   "cell_type": "code",
   "execution_count": null,
   "metadata": {},
   "outputs": [],
   "source": [
    "configfile = SMSConfig(\n",
    "    template=\"uc_solverconfig\"\n",
    ")  # path to the template solver config file \"uc_solverconfig\"\n",
    "temporary_smspp_file = \"./2buses_2thermal.nc\"  # path to temporary SMS++ file\n",
    "output_file = \"./2buses_2thermal.txt\"  # path to the output file (optional)\n",
    "\n",
    "result = sn.optimize(\n",
    "    configfile,\n",
    "    temporary_smspp_file,\n",
    "    output_file,\n",
    ")"
   ]
  },
  {
   "cell_type": "markdown",
   "metadata": {},
   "source": [
    "The value of the objective function and the complete log can be obtained with"
   ]
  },
  {
   "cell_type": "code",
   "execution_count": null,
   "metadata": {},
   "outputs": [],
   "source": [
    "result.objective_value"
   ]
  },
  {
   "cell_type": "code",
   "execution_count": null,
   "metadata": {},
   "outputs": [],
   "source": [
    "result.log"
   ]
  }
 ],
 "metadata": {
  "kernelspec": {
   "display_name": "",
   "language": "python",
   "name": ""
  },
  "language_info": {
   "codemirror_mode": {
    "name": "ipython",
    "version": 3
   },
   "file_extension": ".py",
   "mimetype": "text/x-python",
   "name": "python",
   "nbconvert_exporter": "python",
   "pygments_lexer": "ipython3",
   "version": "3.10.16"
  }
 },
 "nbformat": 4,
 "nbformat_minor": 2
}
